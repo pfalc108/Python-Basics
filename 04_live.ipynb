{
 "cells": [
  {
   "cell_type": "markdown",
   "id": "480ebf61-8cd6-4dc1-9cfb-765c8d3795cd",
   "metadata": {},
   "source": [
    "# Funkce podruhé"
   ]
  },
  {
   "cell_type": "code",
   "execution_count": null,
   "id": "1ce5a630-cade-45e4-a746-2a1b296b0773",
   "metadata": {},
   "outputs": [],
   "source": [
    "def add(x, y):\n",
    "    return x + y\n",
    "\n",
    "add(1, 2.0)\n",
    "add(\"A\", \"B\")"
   ]
  },
  {
   "cell_type": "code",
   "execution_count": null,
   "id": "ded01c2b-147d-4bc5-a2e4-eeffb5936020",
   "metadata": {},
   "outputs": [],
   "source": [
    "int add_int(int x, int y) {\n",
    "    return x + y;\n",
    "}\n",
    "\n",
    "float add_float(float x, float y) {\n",
    "    return x + y;\n",
    "}\n",
    "\n",
    "add_?(10, 1.0)"
   ]
  },
  {
   "cell_type": "markdown",
   "id": "e6d752f1-e6c4-4e48-9f93-5ac8ba8c2736",
   "metadata": {},
   "source": [
    "## Type hints"
   ]
  },
  {
   "cell_type": "code",
   "execution_count": null,
   "id": "59c3b0f0-79d1-460b-84a7-c39ea368af6d",
   "metadata": {},
   "outputs": [],
   "source": [
    "def add(x: int, y: int) -> int:\n",
    "    return x + y\n",
    "\n",
    "add(\"a\", \"b\")"
   ]
  },
  {
   "cell_type": "code",
   "execution_count": null,
   "id": "ca76e5b7-5837-4fe3-ab2b-e650fc60637f",
   "metadata": {},
   "outputs": [],
   "source": [
    "from typing import Iterable, List\n",
    "\n",
    "def print_list(lst_floatu: List[float]) -> None:\n",
    "    pass\n",
    "\n",
    "def print_items(kolekce: Iterable) -> None:\n",
    "    for i in kolekce:\n",
    "        print(i)\n",
    "        \n",
    "print_items(\"aa\")\n",
    "\n",
    "# objekty typu Sized: podporuji operaci len()"
   ]
  },
  {
   "cell_type": "code",
   "execution_count": null,
   "id": "e4e238cf-f8b1-4c06-9b03-14dfb830e5da",
   "metadata": {},
   "outputs": [],
   "source": [
    "# pred verzi 3.9\n",
    "from typing import List\n",
    "\n",
    "def print_list(lst: List[float]) -> None:\n",
    "    print(lst)"
   ]
  },
  {
   "cell_type": "code",
   "execution_count": null,
   "id": "22c6fbf2-d01c-43ab-bab0-5ae3a226d431",
   "metadata": {},
   "outputs": [],
   "source": [
    "# od verze 3.9\n",
    "\n",
    "def print_list(lst: list[float]) -> None:\n",
    "    print(lst)"
   ]
  },
  {
   "cell_type": "markdown",
   "id": "4b349861-dab7-4518-916a-036c42d552f2",
   "metadata": {},
   "source": [
    "## Argumenty funkcí"
   ]
  },
  {
   "cell_type": "code",
   "execution_count": null,
   "id": "22afcf9b-a365-4574-b294-3f3cd2715413",
   "metadata": {},
   "outputs": [],
   "source": [
    "def f(a, b=4):\n",
    "    print(a, b)\n",
    "    \n",
    "f(3, 2)"
   ]
  },
  {
   "cell_type": "markdown",
   "id": "0a105f62-2393-4def-85ec-b87a241224c7",
   "metadata": {},
   "source": [
    "3 ruzne typy argumentu\n",
    "\n",
    "- positional arguments (to, co uz zname)\n",
    "- variable length arguments (varargs, args, arbitrary args)\n",
    "- keyword arguments"
   ]
  },
  {
   "cell_type": "code",
   "execution_count": null,
   "id": "60fef1f1-604f-49f9-8b44-ed58bf2f9ef2",
   "metadata": {},
   "outputs": [],
   "source": [
    "# varargs\n",
    "\n",
    "def funkce(*args):\n",
    "    print(args, type(args))\n",
    "    \n",
    "funkce()"
   ]
  },
  {
   "cell_type": "code",
   "execution_count": null,
   "id": "5d7a671e-9058-4580-bfa4-67c4851c4633",
   "metadata": {},
   "outputs": [],
   "source": [
    "def suma(*numbers):\n",
    "    soucet = 0\n",
    "    for num in numbers:\n",
    "        soucet += num\n",
    "    return soucet\n",
    "\n",
    "nums = [1, 2, 3, 4]\n",
    "suma(*nums) # to same jako suma(nums[0], nums[1], ..., nums[len(nums)-1])"
   ]
  },
  {
   "cell_type": "code",
   "execution_count": null,
   "id": "fd33198c-25cc-49b3-840f-e5e546a27c8a",
   "metadata": {},
   "outputs": [],
   "source": [
    "def funkce(**kwargs):\n",
    "    print(kwargs, type(kwargs))\n",
    "    \n",
    "funkce(a=1, b=2)\n",
    "\n",
    "d = {\n",
    "    \"a\" : 1,\n",
    "    \"c\" : True\n",
    "}\n",
    "\n",
    "funkce(**d)"
   ]
  },
  {
   "cell_type": "code",
   "execution_count": null,
   "id": "b317018d-4555-4979-9bf9-3c81edaeb808",
   "metadata": {},
   "outputs": [],
   "source": [
    "def funkce(x, *args, **kwargs):\n",
    "    print(x)\n",
    "    print(args)\n",
    "    print(kwargs)\n",
    "    \n",
    "funkce(x=2, b=True)"
   ]
  },
  {
   "cell_type": "code",
   "execution_count": null,
   "id": "fc3267ae-aee3-4dc8-bbd1-f479883ea7a6",
   "metadata": {},
   "outputs": [],
   "source": [
    "# Python: funkce jsou first-class citizen\n",
    "\n",
    "def f(x):\n",
    "    return 2 * x\n",
    "\n",
    "print(f, type(f), id(f))\n",
    "\n",
    "funkce = f\n",
    "\n",
    "print(funkce, type(funkce), id(funkce))\n",
    "print(f is funkce)\n",
    "f(2), funkce(2)"
   ]
  },
  {
   "cell_type": "code",
   "execution_count": null,
   "id": "5a1db95a-68d1-41f8-857a-8d896a179294",
   "metadata": {},
   "outputs": [],
   "source": [
    "def default_greet(app_name):\n",
    "    print(f\"this is {app_name}\")\n",
    "    \n",
    "def cool_greet(app_name):\n",
    "    print(f\"{app_name:=^30s}\")\n",
    "\n",
    "def run(app_name, check_updates=False, logfile=\"log.txt\", **kwargs):\n",
    "    greet = kwargs.get(\"greet\", default_greet)\n",
    "    \n",
    "    if greet is not None:\n",
    "        greet(app_name)\n",
    "    \n",
    "    if check_updates:\n",
    "        print(\"checking updates\")\n",
    "        \n",
    "    print(f\"using logfile: {logfile}\")\n",
    "    \n",
    "    print(\"zbytek aplikace...\")\n",
    "\n",
    "# parametry nactene z konfiguracniho souboru\n",
    "run_opts = {\n",
    "    \"check_updates\": True,\n",
    "    \"logfile\": \"/path/to/logfile\",\n",
    "    \"greet\": None\n",
    "}\n",
    "    \n",
    "run(\"test\", **run_opts)"
   ]
  },
  {
   "cell_type": "markdown",
   "id": "06f05db3-6949-49ea-a424-3ed48dc4f38a",
   "metadata": {},
   "source": [
    "## Positional only, keyword only arguments"
   ]
  },
  {
   "cell_type": "code",
   "execution_count": null,
   "id": "d548c1ac-ba48-459e-a62f-4236b8aa5380",
   "metadata": {},
   "outputs": [],
   "source": [
    "def f(a, b, /): # positional only\n",
    "    print(a, b)\n",
    "\n",
    "def g(*, a, b): # keyword only\n",
    "    print(a, b)\n",
    "    \n",
    "# f(b=1, a=2)\n",
    "g(b=1, a=2)"
   ]
  },
  {
   "cell_type": "markdown",
   "id": "cd50fe8c-418c-4495-8b00-4099261becc8",
   "metadata": {},
   "source": [
    "## Polynom\n",
    "\n",
    "Polynomem $p(x)$ stupně $n$ nazýváme výraz tvaru\n",
    "\n",
    "$$\n",
    "p(x) = \\sum_{i=-1}^n a_i x^i = a_0 + a_1 \\cdot x + \\ldots + a_n \\cdot x^n\n",
    "$$\n",
    "a čísla $a_i \\in \\mathcal{R},\\ i=0,\\dots n$ se nazývají koeficienty.\n",
    "\n",
    "Napište funkci, která vyhodnotí polynom zadaný n-ticí koeficientů v bodě x, tj.\n",
    "```python\n",
    "# polynom(x, 3, 2, 1) vyhodnoti 3 + 2x + x^2\n",
    "polynom(0, 3, 2, 1)\n",
    ">> 3\n",
    "```\n",
    "\n",
    "Je vhodné pro zápis polynomu použít tzv. Hornerovo schéma (ušetří mnoho operací a snáze se implementuje). Pro polynom stupně 2 vypadá takto:\n",
    "$$\n",
    "a_0 + a_1\\cdot x + a_2 \\cdot x^2 + a_3 \\cdot x^3 = a_0 + x \\cdot ( a_1 + x \\cdot ( a_2 + a_3 \\cdot x) )\n",
    "$$"
   ]
  },
  {
   "cell_type": "code",
   "execution_count": null,
   "id": "0e2a2d44-c43b-4010-9f1e-e9569a00e8f2",
   "metadata": {},
   "outputs": [],
   "source": [
    "def polynom(x, *coefs):\n",
    "    val = 0.0\n",
    "    for i, coef in enumerate(coefs):\n",
    "        val += coef * x**i\n",
    "    return val\n",
    "\n",
    "# polynom(2, 1) #-> 1 # konstantni funkce: 1 + 0*x\n",
    "# polynom(5, 0, 1) #-> x # linearni funkce: x\n",
    "polynom(0, 3, 2, 1)"
   ]
  },
  {
   "cell_type": "markdown",
   "id": "3f4e5dde-19c7-42d7-937e-7c1be427277d",
   "metadata": {},
   "source": [
    "## Docstring"
   ]
  },
  {
   "cell_type": "code",
   "execution_count": null,
   "id": "8a198cf6-c00f-4acd-8d3c-8e92d5f0070c",
   "metadata": {},
   "outputs": [],
   "source": [
    "a = \"\"\"dlouhe\n",
    "    stringy\n",
    "\n",
    "\"\"\"\n",
    "print(a)"
   ]
  },
  {
   "cell_type": "code",
   "execution_count": null,
   "id": "174455ff-5fd1-4be1-a6e7-4ee7a41533c7",
   "metadata": {},
   "outputs": [],
   "source": [
    "def polynom(x, *coefs):\n",
    "    \"\"\"This function evaluates a polynomial with coeficients coef.\"\"\"\n",
    "    val = 0.0\n",
    "    for i, coef in enumerate(coefs):\n",
    "        val += coef * x**i\n",
    "    return val"
   ]
  },
  {
   "cell_type": "code",
   "execution_count": null,
   "id": "8554e2e8-2eb4-44a1-b401-8e8df95e9ace",
   "metadata": {},
   "outputs": [],
   "source": [
    "def f(a, b):\n",
    "    \"\"\"\n",
    "    reST style docstring\n",
    "\n",
    "    :param a: this is the first number\n",
    "    :param b: this is the second number\n",
    "    :returns: the sum of the two numbers\n",
    "    \"\"\"\n",
    "    return a+b\n",
    "\n",
    "def g(a, b):\n",
    "    \"\"\"\n",
    "    Google style docstring\n",
    "\n",
    "    Args:\n",
    "        a: this is the first number\n",
    "        b: this is the second number\n",
    "    \n",
    "    Returns:\n",
    "        the sum of the two numbers\n",
    "    \"\"\"\n",
    "    return a+b"
   ]
  },
  {
   "cell_type": "markdown",
   "id": "bbfca330-f89b-4ce1-9300-100532346c6d",
   "metadata": {},
   "source": [
    "## Výjimky (exceptions)"
   ]
  },
  {
   "cell_type": "markdown",
   "id": "4893b8de-1db8-4174-b37e-b916fa842d7d",
   "metadata": {},
   "source": [
    "Chyby dvojiho druhu\n",
    "\n",
    "- syntakticke chyby\n",
    "- logicke chyby"
   ]
  },
  {
   "cell_type": "code",
   "execution_count": null,
   "id": "e782d41a-724c-469c-8722-e0f952122249",
   "metadata": {},
   "outputs": [],
   "source": [
    "def f(a, b)\n",
    "    return a + b"
   ]
  },
  {
   "cell_type": "code",
   "execution_count": null,
   "id": "6f6fe076-27b1-42e9-af5f-bca546c425e7",
   "metadata": {},
   "outputs": [],
   "source": [
    "a = 1\n",
    "b = 0\n",
    "a / b"
   ]
  },
  {
   "cell_type": "code",
   "execution_count": null,
   "id": "a27904a7-ef28-45eb-9b34-78756ac50021",
   "metadata": {},
   "outputs": [],
   "source": [
    "d = {\n",
    "    \"a\": 1,\n",
    "    \"b\": 0\n",
    "}\n",
    "\n",
    "try:\n",
    "    b = d[\"b\"]\n",
    "    a / b\n",
    "except KeyError:\n",
    "    print(\"b is not in the dictionary\")\n",
    "except ZeroDivisionError:\n",
    "    print(\"dividing by zero is a big nono\")\n",
    "    \n",
    "print(\"zbytek programu...\")"
   ]
  },
  {
   "cell_type": "code",
   "execution_count": null,
   "id": "01c77721-1540-444b-b73b-0a680af1b018",
   "metadata": {},
   "outputs": [],
   "source": [
    "try:\n",
    "    open_database()\n",
    "    data = retrieve_data_from_database() # -> NoSuchDataError\n",
    "    process_data_in_some_way(data)\n",
    "except NoSuchDataError:\n",
    "    print(\"sorry jako\")\n",
    "finally:\n",
    "    close_database()"
   ]
  },
  {
   "cell_type": "code",
   "execution_count": null,
   "id": "33d54da5-f669-4652-a228-f9be6813ef72",
   "metadata": {},
   "outputs": [],
   "source": [
    "d = {\n",
    "    \"a\": 1,\n",
    "    \"b\": 0\n",
    "}\n",
    "\n",
    "try:\n",
    "    b = d[\"b\"]\n",
    "    a / b\n",
    "except KeyError as e:\n",
    "    print(e)\n",
    "    print(\"b is not in the dictionary\")\n",
    "except ZeroDivisionError as e:\n",
    "    print(e)\n",
    "    print(\"dividing by zero is a big nono\")\n",
    "    \n",
    "print(\"zbytek programu...\")"
   ]
  },
  {
   "cell_type": "code",
   "execution_count": null,
   "id": "c6b9e536-f0f9-4027-902d-87fbe9d8706c",
   "metadata": {},
   "outputs": [],
   "source": [
    "def function_to_be_done(a, b):\n",
    "    raise NotImplementedError(\"Tohle jsem jeste nestihl\")\n",
    "\n",
    "try:\n",
    "    function_to_be_done(1, 2)\n",
    "except NotImplementedError as e:\n",
    "    print(e)\n",
    "    \n",
    "print(\"zbytek programu\")"
   ]
  },
  {
   "cell_type": "code",
   "execution_count": null,
   "id": "f3a7e5b2-da7c-484f-afc3-c97ae0eeab49",
   "metadata": {},
   "outputs": [],
   "source": [
    "try:\n",
    "    function_to_be_done(1, 2)\n",
    "except:\n",
    "    pass\n",
    "\n",
    "print(\"zbytek programu\")"
   ]
  }
 ],
 "metadata": {
  "kernelspec": {
   "display_name": "Python 3 (ipykernel)",
   "language": "python",
   "name": "python3"
  },
  "language_info": {
   "codemirror_mode": {
    "name": "ipython",
    "version": 3
   },
   "file_extension": ".py",
   "mimetype": "text/x-python",
   "name": "python",
   "nbconvert_exporter": "python",
   "pygments_lexer": "ipython3",
   "version": "3.10.6"
  }
 },
 "nbformat": 4,
 "nbformat_minor": 5
}
