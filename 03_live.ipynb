{
 "cells": [
  {
   "cell_type": "markdown",
   "id": "dc0a0a4a",
   "metadata": {},
   "source": [
    "## Dodatek k f-stringu"
   ]
  },
  {
   "cell_type": "code",
   "execution_count": null,
   "id": "92ab092e",
   "metadata": {},
   "outputs": [],
   "source": [
    "width = 10\n",
    "cislo = 2.4\n",
    "\n",
    "output = f\"{cislo * 2:.>{width + 20}.2f}\"\n",
    "print(output)"
   ]
  },
  {
   "cell_type": "markdown",
   "id": "cdd1abcf",
   "metadata": {},
   "source": [
    "## Unpacking"
   ]
  },
  {
   "cell_type": "code",
   "execution_count": null,
   "id": "845bc078",
   "metadata": {},
   "outputs": [],
   "source": [
    "lst = (1, 2)\n",
    "\n",
    "x = lst[0]\n",
    "y = lst[1]\n",
    "\n",
    "a, b = lst\n",
    "print(x, y)\n",
    "print(a, b)"
   ]
  },
  {
   "cell_type": "code",
   "execution_count": null,
   "id": "cc5bcc20",
   "metadata": {},
   "outputs": [],
   "source": [
    "lst = list(range(10))\n",
    "\n",
    "x, _, y, *_, z = lst\n",
    "\n",
    "print(x, y, z)"
   ]
  },
  {
   "cell_type": "code",
   "execution_count": null,
   "id": "ed47b9f7",
   "metadata": {},
   "outputs": [],
   "source": [
    "def f():\n",
    "    return 1, 2\n",
    "\n",
    "a = f()\n",
    "print(a, type(a))\n",
    "x, y = f()\n",
    "\n",
    "print(x, y)"
   ]
  },
  {
   "cell_type": "markdown",
   "id": "765006bb",
   "metadata": {},
   "source": [
    "## Iterace (ve smyslu prochazeni prvku kolekce)"
   ]
  },
  {
   "cell_type": "code",
   "execution_count": null,
   "id": "34004841",
   "metadata": {},
   "outputs": [],
   "source": [
    "lst = range(10)\n",
    "\n",
    "for x in lst:\n",
    "    print(x)\n",
    "    \n",
    "for i in range(len(lst)):\n",
    "    print(i, lst[i])\n"
   ]
  },
  {
   "cell_type": "code",
   "execution_count": null,
   "id": "3d0f6595",
   "metadata": {},
   "outputs": [],
   "source": [
    "lst = [\"a\", \"b\", \"c\"]\n",
    "\n",
    "for i, let in enumerate(lst):\n",
    "    print(i, let)"
   ]
  },
  {
   "cell_type": "code",
   "execution_count": null,
   "id": "8e7bc138",
   "metadata": {},
   "outputs": [],
   "source": [
    "a = [1, 2, 3, 4]\n",
    "b = [\"a\", \"b\", \"c\", \"d\"]\n",
    "\n",
    "for i in range(len(b)):\n",
    "    print(a[i], b[i])\n",
    "    \n",
    "for num, let in zip(a, b):\n",
    "    print(num, let)\n",
    "    \n",
    "for i, (num, let) in enumerate(zip(a, b)):\n",
    "    print(i, num, let)"
   ]
  },
  {
   "cell_type": "code",
   "execution_count": null,
   "id": "70f8ad74",
   "metadata": {},
   "outputs": [],
   "source": [
    "import itertools\n",
    "\n",
    "a = [1, 2, 3]\n",
    "b = [\"a\", \"b\", \"c\"]\n",
    "\n",
    "for num in a:\n",
    "    for let in b:\n",
    "        print(num, let)\n",
    "        \n",
    "for num, let in itertools.product(a, b):\n",
    "    print(num, let)"
   ]
  },
  {
   "cell_type": "code",
   "execution_count": null,
   "id": "4ccc941c",
   "metadata": {},
   "outputs": [],
   "source": [
    "d = {\n",
    "    \"a\": 1,\n",
    "    \"b\": 2\n",
    "}\n",
    "\n",
    "for key, val in d.items():\n",
    "    print(key, val)\n",
    "    \n",
    "for key in d:\n",
    "    print(key, d[key])"
   ]
  },
  {
   "cell_type": "markdown",
   "id": "31a6b9e9",
   "metadata": {},
   "source": [
    "##  list/dict comprehensions"
   ]
  },
  {
   "cell_type": "code",
   "execution_count": null,
   "id": "2db7b08a",
   "metadata": {},
   "outputs": [],
   "source": [
    "numbers = range(10)\n",
    "\n",
    "# squares = []\n",
    "#  for num in numbers:\n",
    "#     squares.append(num**2)\n",
    "    \n",
    "square = [num**2 for num in numbers] # list comprehension (pythonic)\n",
    "odd_numbers = [num for num in numbers if num % 2 != 0]\n",
    "# odd_numbers = [num if num % 2 != 0 for num in numbers] # tohle nefunguje\n",
    "other_list = [num if num % 2 != 0 else 0 for num in numbers]\n",
    "    \n",
    "print(squares)\n",
    "print(odd_numbers)\n",
    "print(other_list)"
   ]
  },
  {
   "cell_type": "code",
   "execution_count": null,
   "id": "5c1562dd",
   "metadata": {},
   "outputs": [],
   "source": [
    "# napiste funkci count_vowels(word), ktera spocita samohlasky ve slove aeiyou\n",
    "\n",
    "count_vowels(\"velbloud\") -> 3"
   ]
  },
  {
   "cell_type": "code",
   "execution_count": null,
   "id": "1e45f63e",
   "metadata": {},
   "outputs": [],
   "source": [
    "for c in \"ahoj\":\n",
    "    print(c)"
   ]
  },
  {
   "cell_type": "code",
   "execution_count": null,
   "id": "3c03ab53",
   "metadata": {},
   "outputs": [],
   "source": [
    "def count_vowels(word):\n",
    "    count = 0\n",
    "    for c in word:\n",
    "        for v in \"aeiyou\":\n",
    "            if c == v:\n",
    "                count += 1\n",
    "    return count\n",
    "\n",
    "def count_vowels(word):\n",
    "    count = 0\n",
    "    for c in word:\n",
    "        if c in \"aeiyou\":\n",
    "            count += 1\n",
    "    return count\n",
    "\n",
    "def count_vowels(word):\n",
    "    return len([c for c in word if c in \"aeiyou\"])\n",
    "    \n",
    "count_vowels(\"velbloud\")"
   ]
  },
  {
   "cell_type": "code",
   "execution_count": null,
   "id": "e57e693f",
   "metadata": {},
   "outputs": [],
   "source": [
    "def is_prime(n):\n",
    "    if n <= 1:\n",
    "        return False\n",
    "    \n",
    "    for i in range(2, n):\n",
    "        if (n % i) == 0:\n",
    "            return False\n",
    "    return True\n",
    "\n",
    "def get_primes1(numbers): # neco jako: filter(is_prime, numbers)\n",
    "    primes = []\n",
    "    for num in numbers:\n",
    "        if is_prime(num):\n",
    "            primes.append(num)\n",
    "    return primes\n",
    "\n",
    "def get_primes2(numbers):\n",
    "    return list(filter(is_prime, numbers)) # very pythonic, funkcionalni pristup (functional programming)\n",
    "\n",
    "def get_primes3(numbers):\n",
    "    return [x for x in numbers if is_prime(x)] # list comprehension, very very pythonic\n",
    "\n",
    "def get_primes4(numbers):\n",
    "    return [x for x in numbers if all([(x % i != 0) for i in range(2, x)]) and x != 1] # too pythonic\n",
    "\n",
    "is_prime(13), get_primes4([1, 2, 3, 4, 5, 6])"
   ]
  },
  {
   "cell_type": "markdown",
   "id": "18c6ea85",
   "metadata": {},
   "source": [
    "## generatory"
   ]
  },
  {
   "cell_type": "code",
   "execution_count": null,
   "id": "d3217db0",
   "metadata": {},
   "outputs": [],
   "source": [
    "%time\n",
    "gen = [2 * x for x in range(int(1e8))]\n",
    "\n",
    "print(\"done\")"
   ]
  },
  {
   "cell_type": "code",
   "execution_count": null,
   "id": "7200cebc",
   "metadata": {},
   "outputs": [],
   "source": [
    "for x in gen:\n",
    "    if x == int(1e4):\n",
    "        print(x)\n",
    "print(\"done\")"
   ]
  },
  {
   "cell_type": "markdown",
   "id": "3f94f3c8",
   "metadata": {},
   "source": [
    "## Dict comprehension"
   ]
  },
  {
   "cell_type": "code",
   "execution_count": null,
   "id": "006a2a08",
   "metadata": {},
   "outputs": [],
   "source": [
    "a = (1, 2, 3)\n",
    "b = [\"a\", \"b\", \"c\"]\n",
    "\n",
    "d = {key:val for key, val in zip(b, a)}\n",
    "lst = [f\"{key}: {val}\" for key, val in d.items()]\n",
    "\n",
    "print(lst)"
   ]
  },
  {
   "cell_type": "markdown",
   "id": "63e580ee",
   "metadata": {},
   "source": [
    "## Faktoriál\n",
    "\n",
    "V kombinatorice se často užívá symbolu $n!$, čteme $n$-faktoriál. Je definován takto:\n",
    "\n",
    "$$\n",
    "n! = \\prod\\limits_{i=1}^{n} i = n \\cdot (n-1) \\cdot \\dots \\cdot 2 \\cdot 1\n",
    "$$\n",
    "\n",
    "Např.\n",
    "$$\n",
    "2! = 2\\\\\n",
    "3! = 6\\\\\n",
    "4! = 24\n",
    "$$\n",
    "\n",
    "Dodatečně se obvykle definuje $0! = 1$.\n",
    "\n",
    "Naprogramujte:\n",
    "- funkci, která spočítá faktoriál čísla $n$\n",
    "- funkci, která spočítá faktoriál čísla $n$ rekurzivně (tj. funkce volá sama sebe)"
   ]
  },
  {
   "cell_type": "code",
   "execution_count": null,
   "id": "339a035c",
   "metadata": {},
   "outputs": [],
   "source": [
    "def faktorial(n):\n",
    "    if n < 0:\n",
    "        print(\"not defined for negative numbers\")\n",
    "        return\n",
    "    elif n == 0:\n",
    "        return 1\n",
    "    else:\n",
    "        fac = 1\n",
    "        for i in range(2, n+1):\n",
    "            fac *= i\n",
    "        return fac\n",
    "    \n",
    "faktorial(10)"
   ]
  },
  {
   "cell_type": "code",
   "execution_count": null,
   "id": "8a96977c",
   "metadata": {},
   "outputs": [],
   "source": [
    "def faktorial(n):\n",
    "    if n == 0:\n",
    "        return 1\n",
    "    else:\n",
    "        return n * faktorial(n-1)\n",
    "    \n",
    "faktorial(10)"
   ]
  },
  {
   "cell_type": "code",
   "execution_count": null,
   "id": "0ac5eab9",
   "metadata": {},
   "outputs": [],
   "source": [
    "from math import factorial\n",
    "\n",
    "factorial(5)"
   ]
  },
  {
   "cell_type": "markdown",
   "id": "4f60a291",
   "metadata": {},
   "source": [
    "## Pretty print slovniku\n"
   ]
  },
  {
   "cell_type": "code",
   "execution_count": null,
   "id": "fb216179",
   "metadata": {},
   "outputs": [],
   "source": [
    "person = {\n",
    "    \"jmeno\": \"Vaclav\",\n",
    "    \"prijmeni\": \"Alt\",\n",
    "    \"adresa\": {\n",
    "        \"ulice\": \"Na konci\",\n",
    "        \"cislo\": {\"popisne\": 123, \"orientacni\": 5},\n",
    "        \"mesto\": \"Praha\"\n",
    "    }\n",
    "}\n",
    "\n",
    "print(person)"
   ]
  },
  {
   "cell_type": "code",
   "execution_count": null,
   "id": "9f5b6022",
   "metadata": {},
   "outputs": [],
   "source": [
    "\"a\" * 5"
   ]
  },
  {
   "cell_type": "code",
   "execution_count": null,
   "id": "d9b3f539",
   "metadata": {},
   "outputs": [],
   "source": [
    "def pretty_print(d, indent=0, char=\" \", increment=4):\n",
    "    white = char * indent\n",
    "    for key, val in d.items():\n",
    "        if type(val) == dict:\n",
    "            print(f\"{white}{key}: {{\")\n",
    "            pretty_print(val, indent + increment)\n",
    "            print(f\"{white}}}\")\n",
    "        else:\n",
    "            print(f\"{white}{key}: {val}\")\n",
    "        \n",
    "pretty_print(person)"
   ]
  },
  {
   "cell_type": "code",
   "execution_count": null,
   "id": "5b586968",
   "metadata": {},
   "outputs": [],
   "source": [
    "jmeno: Vaclav\n",
    "prijmeni: Alt\n",
    "adresa: {\n",
    "    ulice: Na konci\n",
    "    cislo: 5\n",
    "    mesto: Praha\n",
    "}"
   ]
  }
 ],
 "metadata": {
  "kernelspec": {
   "display_name": "Python 3 (ipykernel)",
   "language": "python",
   "name": "python3"
  },
  "language_info": {
   "codemirror_mode": {
    "name": "ipython",
    "version": 3
   },
   "file_extension": ".py",
   "mimetype": "text/x-python",
   "name": "python",
   "nbconvert_exporter": "python",
   "pygments_lexer": "ipython3",
   "version": "3.10.6"
  }
 },
 "nbformat": 4,
 "nbformat_minor": 5
}
