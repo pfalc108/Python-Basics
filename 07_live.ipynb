{
 "cells": [
  {
   "cell_type": "markdown",
   "id": "709ff9a8-cced-4476-81b1-23a2c77b8246",
   "metadata": {},
   "source": [
    "## Nacitani dat ze souboru"
   ]
  },
  {
   "cell_type": "code",
   "execution_count": null,
   "id": "0308cf8e-192a-4bab-b296-5e8519d0759b",
   "metadata": {},
   "outputs": [],
   "source": [
    "file = open(\"config.ini\", \"r\") # r-read, w-write, a-append\n",
    "\n",
    "data = file.read()\n",
    "\n",
    "file.close()\n",
    "\n",
    "print(data)"
   ]
  },
  {
   "cell_type": "code",
   "execution_count": null,
   "id": "ffb389d0-b442-4c1c-b816-282a353edb6d",
   "metadata": {},
   "outputs": [],
   "source": [
    "with open(\"config.ini\", \"r\") as file:\n",
    "    data = file.read()\n",
    "    \n",
    "print(data)"
   ]
  },
  {
   "cell_type": "code",
   "execution_count": null,
   "id": "7ac4b13a-47c6-4a8c-8323-2f192f5565bc",
   "metadata": {},
   "outputs": [],
   "source": [
    "with open(\"config.ini\", \"r\") as file:\n",
    "    line = file.readline()\n",
    "    while line:\n",
    "        print(line.strip(), type(line))\n",
    "        line = file.readline()\n"
   ]
  },
  {
   "cell_type": "markdown",
   "id": "53a10d71-d84d-4528-80f0-5303d36e09dc",
   "metadata": {},
   "source": [
    "## ini"
   ]
  },
  {
   "cell_type": "code",
   "execution_count": null,
   "id": "682d9485-c48c-484b-8d31-976673dc1372",
   "metadata": {},
   "outputs": [],
   "source": [
    "import configparser\n",
    "\n",
    "config = configparser.ConfigParser()\n",
    "config.read(\"config.ini\")\n",
    "\n",
    "for section in config.sections():\n",
    "    print(config[section])\n",
    "    for key, val in config[section].items():\n",
    "        print(key, val, type(val))"
   ]
  },
  {
   "cell_type": "markdown",
   "id": "d0632e45-21f3-49d4-9de7-c0b54633fb86",
   "metadata": {},
   "source": [
    "## json"
   ]
  },
  {
   "cell_type": "code",
   "execution_count": null,
   "id": "21b0a147-1c79-4222-8c12-836a1cb1dcd0",
   "metadata": {},
   "outputs": [],
   "source": [
    "import json\n",
    "\n",
    "with open(\"config.json\", \"r\") as file:\n",
    "    cfg = json.load(file)\n",
    "    \n",
    "print(cfg, type(cfg))\n",
    "\n",
    "cfg[\"section a\"][\"url\"] = \"www.duckduckgo.com\"\n",
    "\n",
    "with open(\"config2.json\", \"w\") as file:\n",
    "    json.dump(cfg, file, indent=4)\n",
    "    \n",
    "outstr = json.dumps(cfg, indent=2)\n",
    "print(outstr)"
   ]
  },
  {
   "cell_type": "markdown",
   "id": "ea311d08-7a24-45e4-bf1e-6d9d10ca0dc6",
   "metadata": {},
   "source": [
    "## toml"
   ]
  },
  {
   "cell_type": "code",
   "execution_count": null,
   "id": "540fe144-02a8-4b6f-b409-5512e891fb77",
   "metadata": {},
   "outputs": [],
   "source": [
    "import tomli\n",
    "\n",
    "with open(\"config.toml\", \"rb\") as file:\n",
    "    cfg = tomli.load(file)\n",
    "    \n",
    "print(cfg)"
   ]
  },
  {
   "cell_type": "markdown",
   "id": "f36857c8-67f6-40ce-b458-72f39e19eb6d",
   "metadata": {},
   "source": [
    "## cesty"
   ]
  },
  {
   "cell_type": "code",
   "execution_count": null,
   "id": "521da5f3-7251-4f7d-bf43-585551ca4c97",
   "metadata": {},
   "outputs": [],
   "source": [
    "root = \"/data/codebase\"\n",
    "\n",
    "full_path = root + \"/project1\"\n",
    "\n",
    "print(full_path)"
   ]
  },
  {
   "cell_type": "code",
   "execution_count": null,
   "id": "c15da6b9-4ee3-4813-83ff-01e6d2dd36b8",
   "metadata": {},
   "outputs": [],
   "source": [
    "import os.path\n",
    "\n",
    "root = \"/data/codebase/\"\n",
    "\n",
    "full_path = os.path.join(root, \"project1\", \"mipy\")\n",
    "\n",
    "print(full_path)"
   ]
  },
  {
   "cell_type": "code",
   "execution_count": null,
   "id": "50ac5787-2e49-41fe-b922-81cdb2771b46",
   "metadata": {},
   "outputs": [],
   "source": [
    "import pathlib\n",
    "\n",
    "root = pathlib.Path(\"/data/codebase/\")\n",
    "\n",
    "full_path = root / \"project1\" / \"mipy\"\n",
    "\n",
    "print(full_path)"
   ]
  },
  {
   "cell_type": "code",
   "execution_count": null,
   "id": "1bfea394-9c3f-4dd0-a1e3-e79e0e9212d4",
   "metadata": {},
   "outputs": [],
   "source": [
    "import shutil"
   ]
  },
  {
   "cell_type": "code",
   "execution_count": null,
   "id": "0d2af94e-e8c5-4bb1-bb2b-0e088709860b",
   "metadata": {},
   "outputs": [],
   "source": [
    "import os\n",
    "\n",
    "os.getenv(\"PATH\")"
   ]
  },
  {
   "cell_type": "code",
   "execution_count": null,
   "id": "c128679a-9475-49e0-a03e-20d1ef04d462",
   "metadata": {},
   "outputs": [],
   "source": [
    "import sys"
   ]
  },
  {
   "cell_type": "markdown",
   "id": "92ba9bac-9243-4d82-9711-16906757d5b8",
   "metadata": {},
   "source": [
    "## NUMPY"
   ]
  },
  {
   "cell_type": "code",
   "execution_count": null,
   "id": "e64d0361-1b72-4e51-95cf-59ab65573de6",
   "metadata": {},
   "outputs": [],
   "source": [
    "import numpy as np\n",
    "\n",
    "a = np.zeros((2, 3), dtype=int)\n",
    "b = np.ones((2, 3), dtype=float)\n",
    "\n",
    "c = a + 2 * b\n",
    "print(c.ndim)"
   ]
  },
  {
   "cell_type": "code",
   "execution_count": null,
   "id": "4e6bb064-9499-434f-b012-54e1b694b3b0",
   "metadata": {},
   "outputs": [],
   "source": [
    "from math import sqrt\n",
    "\n",
    "import numpy as np\n",
    "\n",
    "def op(x):\n",
    "    return sqrt(x) + 1\n",
    "\n",
    "def np_op(x):\n",
    "    return np.sqrt(x) + 1\n",
    "\n",
    "N = 10001\n",
    "x = [(0.0 + i * 0.01) for i in range(N)]\n",
    "\n",
    "np_x = np.linspace(0.0, 100, N) # np.arange(0.0, 100, 0.01)\n",
    "\n",
    "%timeit y = [op(i) for i in x]\n",
    "%timeit np_y = np_op(x)"
   ]
  },
  {
   "cell_type": "markdown",
   "id": "8fc4506a-dfca-44f7-a1f1-66669a05e185",
   "metadata": {},
   "source": [
    "## matplotlib"
   ]
  },
  {
   "cell_type": "code",
   "execution_count": null,
   "id": "c98c812e-b074-4c1f-95d8-b04e236277e9",
   "metadata": {},
   "outputs": [],
   "source": [
    "import numpy as np\n",
    "import matplotlib.pyplot as plt\n",
    "\n",
    "x = np.linspace(0.0, 2.0 * np.pi, 100)\n",
    "y = np.sin(x)\n",
    "\n",
    "plt.plot(x, y, color=\"red\", lw=5.0, ls=\":\")\n",
    "plt.show()"
   ]
  },
  {
   "cell_type": "markdown",
   "id": "03295774-9c81-4a3d-90a0-692f1e77f29f",
   "metadata": {},
   "source": [
    "## Syntetizéry a zvuky zvláštních tvarů\n",
    "Každý zvuk jsou vlastně jen oscilace tlaku v prostředí. Jako tón se označuje každý zvuk s periodickým průběhem. Charakter zvuku (barva) je určen časovým průbehem oscilace. Nejjednodušší tón má sinusový průběh - jako komorní A se označuje tón s frekvencí 440 Hz\n",
    "\n",
    "Elektronické zařízení, které tvoří zvuk syntézou, se nazývá syntetizér. Krásným příkladem klasického syntetizéru jsou například Hammondovy varhany - hráč může během hry modulovat podobu zvukového signálu přidáváním tzv. vyšších harmonických, tedy tónů s celočíselnými násobky frekvence základního tónu. Podle poměrů amplitud, s jakými vyšší harmonické skládáme, lze získat mnoho různých průběhů (barev). Mezi nejznámější příklady rozšířené na všech syntetizérech patří trojúhelníková, obdélníková a pilová vlna. Zkusme si je namodelovat.\n",
    "\n",
    "\\begin{align}\n",
    "f_0 &= \\frac{2\\pi}{b-a}\\\\\n",
    "y_{\\textrm{sawtooth}}(x) &= \\frac{2}{\\pi}\\sum\\limits_{i=0}^{\\infty} \\frac{(-1)^k}{k}\\sin(2\\pi f_0 k x) \\\\\n",
    "y_{\\textrm{square}}(x) &= \\frac{4}{\\pi}\\sum\\limits_{i=0}^{\\infty} \\frac{\\sin\\left(2\\pi f_0 (2k+1) x\\rigvlnaht)}{2k+1} \\\\\n",
    "y_{\\textrm{triangle}}(x) &= \\frac{8}{\\pi^2}\\sum\\limits_{i=0}^{\\infty} \\frac{(-1)^k}{(2k+1)^2}\\sin\\left(2\\pi f_0 (2k+1) x\\right)\n",
    "\\end{align}\n"
   ]
  },
  {
   "cell_type": "code",
   "execution_count": null,
   "id": "0ffb1bbe-7cc9-4e0d-8853-ca98972b02d3",
   "metadata": {},
   "outputs": [],
   "source": [
    "import matplotlib.pyplot\n",
    "import numpy as np\n",
    "\n",
    "from waves import wave\n",
    "\n",
    "def plot_wave(kind, N):\n",
    "    fig, axs = plt.subplots(1, 1)\n",
    "    \n",
    "    a = 0.0\n",
    "    b = 10.0\n",
    "    x = np.linspace(a, b, 1000)\n",
    "    \n",
    "    y_wave = wave(x, a=a, b=b, N=N, kind=kind)\n",
    "    \n",
    "    axs.plot(x, y_wave)\n",
    "    axs.set_xlabel(\"x\")\n",
    "    axs.set_ylabel(\"y\")\n",
    "    plt.show()\n",
    "    \n",
    "    \n",
    "plot_wave(\"square\", 8)"
   ]
  }
 ],
 "metadata": {
  "kernelspec": {
   "display_name": "Python 3 (ipykernel)",
   "language": "python",
   "name": "python3"
  },
  "language_info": {
   "codemirror_mode": {
    "name": "ipython",
    "version": 3
   },
   "file_extension": ".py",
   "mimetype": "text/x-python",
   "name": "python",
   "nbconvert_exporter": "python",
   "pygments_lexer": "ipython3",
   "version": "3.10.6"
  }
 },
 "nbformat": 4,
 "nbformat_minor": 5
}
