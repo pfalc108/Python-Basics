{
 "cells": [
  {
   "cell_type": "markdown",
   "id": "0f9a7fee-44af-4183-a8f0-971c93184c2d",
   "metadata": {},
   "source": [
    "# Dekorator\n",
    "\n",
    "- jeden z návrhových vzorů\n",
    "- slouží k rozšíření funkcionality existujících funkcí.\n",
    "- vstupem i výstupem je funkce"
   ]
  },
  {
   "cell_type": "code",
   "execution_count": null,
   "id": "7a76bff3-6e99-4d99-9053-a42b26b13569",
   "metadata": {},
   "outputs": [],
   "source": [
    "def add(x, y):\n",
    "    return x + y\n",
    "\n",
    "\n",
    "def wrapper(x, y):\n",
    "    print(\"adding two numbers\")\n",
    "    return add(x, y)\n",
    "    \n",
    "wrapper(1, 2)"
   ]
  },
  {
   "cell_type": "code",
   "execution_count": null,
   "id": "2aabe1f6-9e71-4cfc-aee3-0f3d68cb48d0",
   "metadata": {},
   "outputs": [],
   "source": [
    "def add(x, y):\n",
    "    return x + y\n",
    "\n",
    "def decorator(func):\n",
    "    def wrapper(x, y):\n",
    "        result = func(x, y)\n",
    "        print(f\"wrapped function {func.__name__} with result: {result}\")\n",
    "        return result\n",
    "    \n",
    "    return wrapper\n",
    "\n",
    "def subtract(x, y):\n",
    "    return x - y\n",
    "    \n",
    "wrapped_add = decorator(add)\n",
    "wrapped_sub = decorator(subtract)\n",
    "wrapped_add(3, 4)\n",
    "wrapped_sub(3, 4)"
   ]
  },
  {
   "cell_type": "code",
   "execution_count": null,
   "id": "8f15df9f-1e92-472c-83b1-8162fb7d1c00",
   "metadata": {},
   "outputs": [],
   "source": [
    "def decorator(func):\n",
    "    def wrapper(x, y):\n",
    "        result = func(x, y)\n",
    "        print(f\"wrapped function {func.__name__} with result: {result}\")\n",
    "        return result\n",
    "    \n",
    "    return wrapper\n",
    "\n",
    "@decorator\n",
    "def add(x, y):\n",
    "    return x + y\n",
    "\n",
    "@decorator\n",
    "def subtract(x, y):\n",
    "    return x - y\n",
    "    \n",
    "\n",
    "add(3, 4)\n",
    "subtract(3, 4)"
   ]
  },
  {
   "cell_type": "markdown",
   "id": "7b138c3d-98b0-430d-af91-93f6cbd54e3b",
   "metadata": {},
   "source": [
    "# OOP"
   ]
  },
  {
   "cell_type": "code",
   "execution_count": null,
   "id": "d4309fba-149c-4bf5-855d-652b8ba1d7dc",
   "metadata": {},
   "outputs": [],
   "source": [
    "class Snake:\n",
    "    length = 2\n",
    "    \n",
    "    def eat(self):\n",
    "        Snake.length += 1\n",
    "        \n",
    "had = Snake()\n",
    "had2 = Snake()\n",
    "print(had.length)\n",
    "had.eat()\n",
    "print(had.length, had2.length)"
   ]
  },
  {
   "cell_type": "code",
   "execution_count": null,
   "id": "43235a90-e9a4-4d26-bd60-d8273ccaa58a",
   "metadata": {},
   "outputs": [],
   "source": [
    "class Snake:\n",
    "    length = 2\n",
    "    \n",
    "    def eat(self):\n",
    "        self.length += 1\n",
    "        \n",
    "had = Snake()\n",
    "had2 = Snake()\n",
    "print(had.length)\n",
    "had.eat()\n",
    "print(had.length, had2.length)"
   ]
  },
  {
   "cell_type": "code",
   "execution_count": null,
   "id": "75b76ce2-7bf2-46c9-843a-e6323f1bb33c",
   "metadata": {},
   "outputs": [],
   "source": [
    "class Snake:\n",
    "    start_length = 2\n",
    "    \n",
    "    def __init__(self, length=start_length):\n",
    "        self.length = length\n",
    "    \n",
    "    def eat(self):\n",
    "        self.length += 1\n",
    "        \n",
    "had = Snake(4)\n",
    "had2 = Snake(5)\n",
    "print(had.length)\n",
    "had.eat()\n",
    "print(had.length, had2.length)"
   ]
  },
  {
   "cell_type": "markdown",
   "id": "403347b8-6407-44af-92fc-c6dd5e13a712",
   "metadata": {},
   "source": [
    "## Dunder methods (magic methods)"
   ]
  },
  {
   "cell_type": "code",
   "execution_count": null,
   "id": "93437d38-eb1b-45cc-adf6-ec1af2b1c71c",
   "metadata": {},
   "outputs": [],
   "source": [
    "had = Snake(5)\n",
    "\n",
    "print(had)"
   ]
  },
  {
   "cell_type": "code",
   "execution_count": null,
   "id": "fd84c52a-1ca4-4d41-be6e-f255d881c6d9",
   "metadata": {},
   "outputs": [],
   "source": [
    "class Snake:\n",
    "    start_length = 2\n",
    "    \n",
    "    def __init__(self, length=start_length):\n",
    "        self.length = length\n",
    "    \n",
    "    def eat(self):\n",
    "        self.length += 1\n",
    "        \n",
    "    def __str__(self) -> str:\n",
    "        return f\"Instance of Snake with length {self.length}\"\n",
    "    \n",
    "    def __repr__(self) -> str:\n",
    "        return f\"Snake(length={self.length})\"\n",
    "        \n",
    "had = Snake(4)\n",
    "\n",
    "print(had) # implicitni konverze na string - vola se neco jako print(str(had))\n",
    "had_repr = repr(had)\n",
    "\n",
    "print(had_repr)\n",
    "had2 = eval(had_repr)\n",
    "\n",
    "print(had2)"
   ]
  },
  {
   "cell_type": "markdown",
   "id": "2f654511-cb14-4359-8721-2a7ee2691ebc",
   "metadata": {},
   "source": [
    "## Polynom"
   ]
  },
  {
   "cell_type": "code",
   "execution_count": null,
   "id": "41906354-3ef0-48e9-996e-a17891b935a5",
   "metadata": {},
   "outputs": [],
   "source": [
    "def polynom(x, *coefs):\n",
    "    val = 0.0\n",
    "    for i, coef in enumerate(coefs):\n",
    "        val += coef * x**i\n",
    "    return val\n",
    "\n",
    "# polynom(2, 1) #-> 1 # konstantni funkce: 1 + 0*x\n",
    "# polynom(5, 0, 1) #-> x # linearni funkce: x\n",
    "polynom(0, 3, 2, 1) # vycisli polynom 3+2x+1*x^2 v bode x=0: 3"
   ]
  },
  {
   "cell_type": "code",
   "execution_count": null,
   "id": "ddcade15-c121-4cd2-89cf-9c5bf1176b10",
   "metadata": {},
   "outputs": [],
   "source": [
    "class Polynom:\n",
    "    def __init__(self, *coefs):\n",
    "        self.coefs = coefs\n",
    "        \n",
    "    def __call__(self, x):\n",
    "        val = 0.0\n",
    "        for i, coef in enumerate(self.coefs):\n",
    "            val += coef * x**i\n",
    "        return val\n",
    "    \n",
    "parabola = Polynom(3, 2, 1)\n",
    "parabola(0) # -> 3.0"
   ]
  },
  {
   "cell_type": "markdown",
   "id": "c8661ac5-9ba6-4b9b-a1b2-994745ac98aa",
   "metadata": {},
   "source": [
    "## Public vs. private\n",
    "\n",
    "```cpp\n",
    "class Pizza {\n",
    "    public:\n",
    "        double hmotnost;\n",
    "        string druh;\n",
    "    private:\n",
    "        string tajna_prisada;\n",
    "        int kalorie;\n",
    "};\n",
    "pizza = Pizza()\n",
    "print(pizza.druh) // OK\n",
    "print(pizza.tajna_prisada) // big no no\n",
    "```"
   ]
  },
  {
   "cell_type": "markdown",
   "id": "2ca20d7c-6699-4e49-9da0-012ad7d556a3",
   "metadata": {},
   "source": [
    "Python public a private nerozlisuje\n",
    "\n",
    "> We are consenting adults. (Anyone can touch your privates)."
   ]
  },
  {
   "cell_type": "code",
   "execution_count": null,
   "id": "bb9acf9f-9f05-4d49-8c18-67649efb6fcf",
   "metadata": {},
   "outputs": [],
   "source": [
    "class Pizza:\n",
    "    def __init__(self):\n",
    "        self.hmotnost = 200\n",
    "        self.druh = \"margherita\"\n",
    "        self._tajna_prisada = \"velrybi tuk\"\n",
    "        self.__kalorie = 30000\n",
    "\n",
    "pizza = Pizza()\n",
    "\n",
    "print(pizza._tajna_prisada)\n",
    "# print(pizza.__kalorie)\n",
    "print(pizza._Pizza__kalorie)\n",
    "\n",
    "pizza._tajna_prisada = \"zeli\"\n",
    "print(pizza._tajna_prisada)"
   ]
  },
  {
   "cell_type": "markdown",
   "id": "9cc9c61b-f1fd-40eb-9642-4d50a6eb04b7",
   "metadata": {},
   "source": [
    "### obvykle reseni \"kontroly zapisu do 'private' atributu tridy\""
   ]
  },
  {
   "cell_type": "code",
   "execution_count": null,
   "id": "4fbe07e2-e1e1-437d-b66d-081c6ae43d35",
   "metadata": {},
   "outputs": [],
   "source": [
    "class Person:\n",
    "    def __init__(self, name):\n",
    "        self.name = name\n",
    "        self._rc = None\n",
    "        \n",
    "    @property\n",
    "    def rc(self): # getter metoda\n",
    "        return self._rc\n",
    "    \n",
    "    @rc.setter\n",
    "    def rc(self, cislo): # setter metoda\n",
    "        if cislo % 11 != 0:\n",
    "            raise ValueError(\"neplatne rodne cislo\", cislo)\n",
    "        self._rc = cislo\n",
    "        \n",
    "person = Person(\"Vaclav\")\n",
    "person._rc = 1234567894\n",
    "\n",
    "print(person.name, person.rc)"
   ]
  },
  {
   "cell_type": "markdown",
   "id": "54420c65-30b0-415d-b476-49f8cd0d0d88",
   "metadata": {},
   "source": [
    "## Class vs instance vs static methods"
   ]
  },
  {
   "cell_type": "code",
   "execution_count": null,
   "id": "01bea0c1-dd62-4d2d-a65a-32ff49e94119",
   "metadata": {},
   "outputs": [],
   "source": [
    "class Pizza:\n",
    "    testo = {\n",
    "        \"mouka\": [300, \"g\"],\n",
    "        \"drozdi\": [5, \"g\"],\n",
    "        \"voda\": [150, \"ml\"]\n",
    "    }\n",
    "    \n",
    "    def __init__(self, druh):\n",
    "        self.hmotnost = 200\n",
    "        self.druh = druh\n",
    "        self._tajna_prisada = \"velrybi tuk\"\n",
    "        self.__kalorie = 30000\n",
    "        \n",
    "    def co_je_to_za_pizzu(self):\n",
    "        print(f\"tohle je {self.druh}\")\n",
    "        \n",
    "    @classmethod\n",
    "    def ukaz_testo(cls):\n",
    "        print(\"Prisady:\")\n",
    "        for thing, (amount, unit) in cls.testo.items():\n",
    "            print(f\"{thing}: {amount} {unit}\")\n",
    "            \n",
    "    @staticmethod\n",
    "    def co_to_je_pizza():\n",
    "        print(\"pizza je...\")\n",
    "        \n",
    "# pizza = Pizza(\"margherita\")\n",
    "\n",
    "Pizza.ukaz_testo()\n",
    "Pizza.co_to_je_pizza()\n",
    "# pizza.co_je_to_za_pizzu()"
   ]
  },
  {
   "cell_type": "markdown",
   "id": "1d95485d-a90d-4869-8ced-3ba8e827b499",
   "metadata": {},
   "source": [
    "## Příklad: třída reprezentující nastavení"
   ]
  },
  {
   "cell_type": "code",
   "execution_count": null,
   "id": "beab6a14-8ca6-4a66-98ea-cfcb17b7ae1c",
   "metadata": {},
   "outputs": [],
   "source": [
    "import json\n",
    "\n",
    "class Config:\n",
    "    def __init__(self, logfile, check_updates, author):\n",
    "        self.logfile = logfile\n",
    "        self.check_updates = check_updates\n",
    "        self.author = author\n",
    "\n",
    "    def save_to_file(self, filename):\n",
    "        d = {\n",
    "            \"logfile\": self.logfile,\n",
    "            \"check_updates\": self.check_updates,\n",
    "            \"author\": self.author\n",
    "        }\n",
    "        with open(filename, \"w\") as file:\n",
    "            json.dump(d, file)\n",
    "            \n",
    "    @staticmethod\n",
    "    def load_from_file(filename):\n",
    "        with open(filename, \"r\") as file:\n",
    "            data = json.load(file)\n",
    "        \n",
    "        return Config(**data)\n",
    "\n",
    "    \n",
    "cfg = Config(\"file.log\", True, \"Vaclav\")\n",
    "cfg.save_to_file(\"conf.json\")\n",
    "\n",
    "# pozdeji / v jine casti programu\n",
    "\n",
    "cfg2 = Config.load_from_file(\"conf.json\")\n",
    "\n",
    "if cfg2.check_updates:\n",
    "    print(\"checking updates\")\n",
    "\n",
    "print(cfg2.logfile)\n",
    "\n",
    "\n",
    "print(cfg2)"
   ]
  },
  {
   "cell_type": "markdown",
   "id": "c7a2fc46-1496-4152-999c-7b64423b4895",
   "metadata": {},
   "source": [
    "### Lepší řešení: dataclass"
   ]
  },
  {
   "cell_type": "code",
   "execution_count": null,
   "id": "988d302c-ea59-4abf-ae33-2e484f46ba60",
   "metadata": {},
   "outputs": [],
   "source": [
    "import json\n",
    "from dataclasses import dataclass, asdict\n",
    "\n",
    "@dataclass\n",
    "class Config:\n",
    "    logfile: str\n",
    "    check_updates: bool\n",
    "    author: str = \"Vaclav\"\n",
    "    homepage: str = \"vaclav-alt.github.io\"\n",
    "\n",
    "    def save_to_file(self, filename):\n",
    "        with open(filename, \"w\") as file:\n",
    "            json.dump(asdict(self), file)\n",
    "            \n",
    "    @staticmethod\n",
    "    def load_from_file(filename):\n",
    "        with open(filename, \"r\") as file:\n",
    "            data = json.load(file)\n",
    "        \n",
    "        return Config(**data)\n",
    "\n",
    "    \n",
    "cfg = Config(\"file.log\", True)\n",
    "cfg.save_to_file(\"conf.json\")\n",
    "\n",
    "# pozdeji / v jine casti programu\n",
    "\n",
    "cfg2 = Config.load_from_file(\"conf.json\")\n",
    "\n",
    "if cfg2.check_updates:\n",
    "    print(\"checking updates\")\n",
    "\n",
    "print(cfg2.logfile)\n",
    "\n",
    "print(cfg2)"
   ]
  },
  {
   "cell_type": "markdown",
   "id": "ace45f90-bfab-4f97-bc49-1498deaeca04",
   "metadata": {},
   "source": [
    "## Iteratory a generatory"
   ]
  },
  {
   "cell_type": "code",
   "execution_count": null,
   "id": "a2e67611-a161-4dda-8c8e-e5a9200494d4",
   "metadata": {},
   "outputs": [],
   "source": [
    "cisla = [1, 2, 3, 4]\n",
    "\n",
    "for x in cisla:\n",
    "    print(x)\n",
    "    \n",
    "# ekvivalentne\n",
    "\n",
    "iterator = iter(cisla)\n",
    "print(type(iterator))\n",
    "print(next(iterator))\n",
    "print(next(iterator))\n",
    "print(next(iterator))\n",
    "print(next(iterator))\n",
    "print(next(iterator))"
   ]
  },
  {
   "cell_type": "code",
   "execution_count": null,
   "id": "cf2e7125-e049-4b9c-ab21-8b46adf85b71",
   "metadata": {},
   "outputs": [],
   "source": [
    "cisla = [1, 2, 3, 4]\n",
    "\n",
    "iterator = iter(cisla)\n",
    "\n",
    "while True:\n",
    "    try:\n",
    "        print(next(iterator))\n",
    "    except StopIteration:\n",
    "        print(\"final iteration\")\n",
    "        break\n"
   ]
  },
  {
   "cell_type": "code",
   "execution_count": null,
   "id": "2be749d6-9d3d-44a6-b21e-5f31ecd75484",
   "metadata": {},
   "outputs": [],
   "source": [
    "class Iterator:\n",
    "    def __init__(self, data):\n",
    "        self.data = data\n",
    "        self.index = 0\n",
    "        \n",
    "    def __iter__(self):\n",
    "        return self\n",
    "    \n",
    "    def __next__(self):\n",
    "        if self.index == len(self.data):\n",
    "            raise StopIteration\n",
    "        val = self.data[self.index]\n",
    "        self.index += 1\n",
    "        return f\"[{self.index}/{len(self.data)}] {val}\"\n",
    "    \n",
    "muj_iterator = Iterator((1, 2, 3, 4, 5))\n",
    "\n",
    "for x in muj_iterator:\n",
    "    print(x)"
   ]
  },
  {
   "cell_type": "markdown",
   "id": "6e307541-446a-4266-b69f-fb656f267b34",
   "metadata": {},
   "source": [
    "### Generator\n"
   ]
  },
  {
   "cell_type": "code",
   "execution_count": null,
   "id": "124f8929-00eb-4c64-bf89-fc9e452a448b",
   "metadata": {},
   "outputs": [],
   "source": [
    "cisla = [1, 2, 3, 4, 5, 6]\n",
    "\n",
    "suda_cisla = (x for x in cisla if x % 2 == 0)\n",
    "print(suda_cisla)"
   ]
  },
  {
   "cell_type": "markdown",
   "id": "0d382a3c-048c-47c3-bd45-561391ccc387",
   "metadata": {},
   "source": [
    "### Fibonacciho cisla\n",
    "\n",
    "0, 1, 1, 2, 3, 5, 8, 13, 21, ...\n",
    "\n"
   ]
  },
  {
   "cell_type": "code",
   "execution_count": null,
   "id": "695cb8cc-f51c-410a-b767-74c469fab39e",
   "metadata": {},
   "outputs": [],
   "source": [
    "class Fibonacci:\n",
    "    def __init__(self, n=10):\n",
    "        self.curr = 1\n",
    "        self.last = 0\n",
    "        self.it = 1\n",
    "        self.n = n\n",
    "    \n",
    "    def __iter__(self):\n",
    "        return self\n",
    "        \n",
    "    def __next__(self):\n",
    "        if self.it > self.n:\n",
    "            raise StopIteration\n",
    "        \n",
    "        self.it += 1\n",
    "        ret = self.last\n",
    "        \n",
    "        self.last, self.curr = self.curr, self.curr + self.last\n",
    "        return ret\n",
    "    \n",
    "    \n",
    "for x in Fibonacci(10):\n",
    "    print(x)"
   ]
  },
  {
   "cell_type": "code",
   "execution_count": null,
   "id": "fcaa81b4-00b3-4c22-97eb-09695388332b",
   "metadata": {},
   "outputs": [],
   "source": [
    "# jina forma generatoru\n",
    "\n",
    "def fibonacci(n):\n",
    "    a, b = 0, 1\n",
    "    for _ in range(n):\n",
    "        yield a\n",
    "        a, b = b, a + b\n",
    "        \n",
    "for x in fibonacci(10):\n",
    "    print(x)"
   ]
  }
 ],
 "metadata": {
  "kernelspec": {
   "display_name": "Python 3 (ipykernel)",
   "language": "python",
   "name": "python3"
  },
  "language_info": {
   "codemirror_mode": {
    "name": "ipython",
    "version": 3
   },
   "file_extension": ".py",
   "mimetype": "text/x-python",
   "name": "python",
   "nbconvert_exporter": "python",
   "pygments_lexer": "ipython3",
   "version": "3.10.6"
  }
 },
 "nbformat": 4,
 "nbformat_minor": 5
}
