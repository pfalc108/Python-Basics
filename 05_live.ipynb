{
 "cells": [
  {
   "cell_type": "markdown",
   "id": "226ad500-f8e8-4aa7-a043-6ea7927a5add",
   "metadata": {},
   "source": [
    "## Lambda funkce"
   ]
  },
  {
   "cell_type": "code",
   "execution_count": null,
   "id": "8890ee1f-1d25-4da8-9cac-583ead3926e4",
   "metadata": {},
   "outputs": [],
   "source": [
    "f = lambda x: 2*x\n",
    "print(f, type(f))\n",
    "f(2)"
   ]
  },
  {
   "cell_type": "code",
   "execution_count": null,
   "id": "606ab3cb-73c4-46f5-be95-284265450d50",
   "metadata": {},
   "outputs": [],
   "source": [
    "lst = range(10)\n",
    "even = [num for num in lst if num%2 == 0]\n",
    "print(even)\n",
    "\n",
    "even = list(filter(lambda x: x%2 == 0, lst))\n",
    "print(even)"
   ]
  },
  {
   "cell_type": "code",
   "execution_count": null,
   "id": "551d5979-397e-4e46-b2c7-c5aac7056695",
   "metadata": {},
   "outputs": [],
   "source": [
    "f = lambda x, y: x + y\n",
    "\n",
    "f(1, 2)"
   ]
  },
  {
   "cell_type": "markdown",
   "id": "1c349208-c867-47df-bd07-54f11dbe95ea",
   "metadata": {},
   "source": [
    "# Struktura programu\n",
    "\n",
    "- single file module\n",
    "    - samostatný soubor `.py`; může obsahovat definice funkcí, tříd, datových typů\n",
    "    - pokud má být importován, měl by obsahovat funkci `main()`, která se volá v bloku\n",
    "    ```python\n",
    "    def main():\n",
    "        ...\n",
    "        \n",
    "    \n",
    "    if __name__ == \"__main__\":\n",
    "        main()\n",
    "    ```\n",
    "- multi file module -> package\n",
    "    - složka obsahující více modulů a soubor `__init__.py` se nazývá balíček (package)\n",
    "    - může obsahovat i podsložky (subpackages), ale každá z nich musí obsahovat `__init__.py`\n",
    "- setup.py\n",
    "    - instalační skript - definuje dodatečné vlastnosti balíčku (název, verzi,...)\n",
    "    - umožňuje instalaci balíčku pomocí `pip`\n",
    "- dokumentace\n",
    "    \n",
    "- testy"
   ]
  },
  {
   "cell_type": "markdown",
   "id": "b9184812-26b9-4b16-bfe6-f6cf56fc8123",
   "metadata": {},
   "source": [
    "## Napsal jsem balíček ale python hlásí `No module named '...'`\n",
    "\n",
    "Pythoní interpret při importu balíčků prohledává pár typických míst, kde by se balíčky mohly nacházet. Aby našel náš balíček, můžeme:\n",
    "\n",
    "### říct pythonu, kam se má podívat\n",
    "\n",
    "- tedy do systémové proměnné `PYTHONPATH` přidat cestu k našemu balíčku\n",
    "```bash\n",
    "# linux/mac\n",
    "export PYTHONPATH=/path/to/our/package:${PYTHONPATH}\n",
    "```\n",
    "- ve Windows je to komplikovanější -> raději druhá cesta\n",
    "\n",
    "### balíček nainstalovat\n",
    "\n",
    "přidat cestu k němu do PYTHONPATH - systemova proměnná- pokud balíček nainstalujeme pomocí `pip`, objeví se na místech, kde ho python běžně hledá (systémová instalace, či ještě lépe - naše virtuální prostředí) a tedy půjde importovat.\n",
    "\n",
    "Pro instalaci je nutné zavést skript `setup.py` - viz příklad z hodiny.\n",
    "\n",
    "Balíček lze instalovat v \"develop\" módu - při změnách není nutné balíček přeinstalovat, aby se projevily. Instalace probíhá příkazem\n",
    "\n",
    "```bash\n",
    "pip3 install -e /path/to/folder/with/setup.py/\n",
    "```\n",
    "\n",
    "- Přepínač `-e` zajišťuje právě develop mód.\n",
    "- `setup.py` by se měl nacházet v složce obsahující balíček - viz příklad z hodiny.\n"
   ]
  },
  {
   "cell_type": "markdown",
   "id": "54767d76-c2bc-401c-9faa-2aae02ea2bb0",
   "metadata": {},
   "source": [
    "## Dokumentace\n",
    "\n",
    "- `sphinx`"
   ]
  },
  {
   "cell_type": "markdown",
   "id": "6f472827-d967-4ab1-be3a-feebe561495e",
   "metadata": {},
   "source": [
    "## Dokumentace\n",
    "\n",
    "Ke generování dokumentace používáme standardní balík `sphinx`. Generování probíhá v několika krocích.\n",
    "\n",
    "Je nutné, aby byl balíček k nalezení (viz výše), jinak postup nebude fungovat.\n",
    "\n",
    "- `pip3 install sphinx`\n",
    "- `cd path/to/package/`\n",
    "- `sphinx-apidoc -F -o docs --ext-autodoc <package>`\n",
    "    - `-F` vygeneruje vsechno\n",
    "    - `-o` vystupni cesta k dokumentaci\n",
    "    - `--ext-autodoc`\n",
    "    - `.` tento adresar\n",
    "    - ( `-f` - force (prepise dokumentaci))\n",
    "    - pripravi podklady pro generovani dokumentace\n",
    "- `sphinx-build -b html <src-dir> <output-dir>`\n",
    "    - `-b` builder. html -> html, pdf->pdf\n",
    "    - `<src-dir>` sources k dokumentaci (vygeneroval minuly krok)\n",
    "    - `<output-dir>` kam se dokumentace vygeneruje (docs/_build)"
   ]
  },
  {
   "cell_type": "markdown",
   "id": "cf34f40d-2051-482c-9f62-c11264421a2f",
   "metadata": {},
   "source": [
    "## Testovani\n",
    "\n",
    "- `pytest` - nutno doinstalovat, snadny k pouziti"
   ]
  }
 ],
 "metadata": {
  "kernelspec": {
   "display_name": "Python 3 (ipykernel)",
   "language": "python",
   "name": "python3"
  },
  "language_info": {
   "codemirror_mode": {
    "name": "ipython",
    "version": 3
   },
   "file_extension": ".py",
   "mimetype": "text/x-python",
   "name": "python",
   "nbconvert_exporter": "python",
   "pygments_lexer": "ipython3",
   "version": "3.10.6"
  }
 },
 "nbformat": 4,
 "nbformat_minor": 5
}
