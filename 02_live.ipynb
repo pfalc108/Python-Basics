{
 "cells": [
  {
   "cell_type": "markdown",
   "id": "15301272",
   "metadata": {},
   "source": [
    "# Datové typy\n",
    "\n",
    "![Python data structure](https://media.geeksforgeeks.org/wp-content/uploads/20191023173512/Python-data-structure.jpg)\n",
    "*Obrázek z webu GeeksForGeeks: https://www.geeksforgeeks.org/python-data-types/*\n",
    "\n",
    "Python je dynamicky typovaný, objektově orientovaný jazyk s garbage collection. Všechno je objekt (více než adresované místo v paměti, jako např. v C)\n",
    "\n",
    "Každá proměnná má `value`, `type` a `id`."
   ]
  },
  {
   "cell_type": "code",
   "execution_count": 3,
   "id": "f70e18cf",
   "metadata": {},
   "outputs": [
    {
     "name": "stdout",
     "output_type": "stream",
     "text": [
      "200 <class 'int'> 140538737629648\n",
      "200 <class 'int'> 140538737629648\n"
     ]
    }
   ],
   "source": [
    "a = 200\n",
    "b = 200\n",
    "print(a, type(a), id(a))\n",
    "print(b, type(b), id(b))"
   ]
  },
  {
   "cell_type": "code",
   "execution_count": 4,
   "id": "849a079e",
   "metadata": {},
   "outputs": [
    {
     "name": "stdout",
     "output_type": "stream",
     "text": [
      "<class 'float'>\n"
     ]
    }
   ],
   "source": [
    "x = 1 + 2.0\n",
    "print(type(x))"
   ]
  },
  {
   "cell_type": "code",
   "execution_count": 5,
   "id": "d1d32329",
   "metadata": {},
   "outputs": [
    {
     "name": "stdout",
     "output_type": "stream",
     "text": [
      "1.0 <class 'float'>\n"
     ]
    }
   ],
   "source": [
    "x = 1\n",
    "y = float(x)\n",
    "print(y, type(y))"
   ]
  },
  {
   "cell_type": "code",
   "execution_count": 6,
   "id": "a7be6f7b",
   "metadata": {},
   "outputs": [
    {
     "name": "stdout",
     "output_type": "stream",
     "text": [
      "1 <class 'int'>\n"
     ]
    }
   ],
   "source": [
    "a = int(1.6)\n",
    "print(a, type(a))"
   ]
  },
  {
   "cell_type": "code",
   "execution_count": 12,
   "id": "bb6fb3d7",
   "metadata": {},
   "outputs": [
    {
     "name": "stdout",
     "output_type": "stream",
     "text": [
      "False <class 'bool'>\n"
     ]
    }
   ],
   "source": [
    "a = bool(\"\")\n",
    "print(a, type(a))"
   ]
  },
  {
   "cell_type": "markdown",
   "id": "40eb9440",
   "metadata": {},
   "source": [
    "## Mutability vs immutability\n"
   ]
  },
  {
   "cell_type": "code",
   "execution_count": 14,
   "id": "469a4dc6",
   "metadata": {},
   "outputs": [
    {
     "name": "stdout",
     "output_type": "stream",
     "text": [
      "4567 140538684829040\n",
      "4568 140538684829008\n"
     ]
    }
   ],
   "source": [
    "a = 4567\n",
    "print(a, id(a))\n",
    "a += 1 # a = a + 1\n",
    "print(a, id(a))"
   ]
  },
  {
   "cell_type": "code",
   "execution_count": 16,
   "id": "6d95d162",
   "metadata": {},
   "outputs": [
    {
     "data": {
      "text/plain": [
       "False"
      ]
     },
     "execution_count": 16,
     "metadata": {},
     "output_type": "execute_result"
    }
   ],
   "source": [
    "a = 400\n",
    "b = a\n",
    "a is b # to same jako id(a) == id(b)\n",
    "a += 1\n",
    "a is b"
   ]
  },
  {
   "cell_type": "code",
   "execution_count": 19,
   "id": "6bf4168d",
   "metadata": {},
   "outputs": [
    {
     "name": "stdout",
     "output_type": "stream",
     "text": [
      "True\n",
      "True\n",
      "[1, 2, 3, 4] [1, 2, 3, 4]\n"
     ]
    }
   ],
   "source": [
    "a = [1, 2, 3]\n",
    "b = a\n",
    "\n",
    "\n",
    "print(a is b)\n",
    "a.append(4)\n",
    "print(a is b)\n",
    "print(a, b)"
   ]
  },
  {
   "cell_type": "code",
   "execution_count": 20,
   "id": "a5ab107f",
   "metadata": {},
   "outputs": [
    {
     "name": "stdout",
     "output_type": "stream",
     "text": [
      "False\n",
      "False\n",
      "[1, 2, 3, 4] [1, 2, 3]\n"
     ]
    }
   ],
   "source": [
    "a = [1, 2, 3]\n",
    "b = list(a)\n",
    "\n",
    "\n",
    "print(a is b)\n",
    "a.append(4)\n",
    "print(a is b)\n",
    "print(a, b)"
   ]
  },
  {
   "cell_type": "code",
   "execution_count": 27,
   "id": "ad537dac",
   "metadata": {},
   "outputs": [
    {
     "data": {
      "text/plain": [
       "(True, [4, 3], [4, 3])"
      ]
     },
     "execution_count": 27,
     "metadata": {},
     "output_type": "execute_result"
    }
   ],
   "source": [
    "def process(x, lst=[]):\n",
    "    # processing of x\n",
    "    lst.append(x)\n",
    "    return lst\n",
    "\n",
    "lst1 = process(4)\n",
    "lst2 = process(3)\n",
    "lst1 is lst2, lst1, lst2"
   ]
  },
  {
   "cell_type": "markdown",
   "id": "3ad8e762",
   "metadata": {},
   "source": [
    "- mutable: list, set, dict\n",
    "- immutable: int, float, bool, string, complex, frozen set, tuple, range"
   ]
  },
  {
   "cell_type": "markdown",
   "id": "d9d8d44d",
   "metadata": {},
   "source": [
    "## Funkce jsou first class citizen"
   ]
  },
  {
   "cell_type": "code",
   "execution_count": 31,
   "id": "6f4f28d5",
   "metadata": {},
   "outputs": [
    {
     "data": {
      "text/plain": [
       "3"
      ]
     },
     "execution_count": 31,
     "metadata": {},
     "output_type": "execute_result"
    }
   ],
   "source": [
    "def add(a, b):\n",
    "    return a + b\n",
    "\n",
    "f = add\n",
    "\n",
    "f(1, 2)"
   ]
  },
  {
   "cell_type": "code",
   "execution_count": 33,
   "id": "a6bc0973",
   "metadata": {},
   "outputs": [
    {
     "data": {
      "text/plain": [
       "10"
      ]
     },
     "execution_count": 33,
     "metadata": {},
     "output_type": "execute_result"
    }
   ],
   "source": [
    "def do_something_with_x(x, something):\n",
    "    return something(x)\n",
    "\n",
    "def something(x):\n",
    "    return 2 * x\n",
    "\n",
    "do_something_with_x(5, something)"
   ]
  },
  {
   "cell_type": "markdown",
   "id": "effa7f88",
   "metadata": {},
   "source": [
    "## Počítač neumí počítat\n",
    "\n",
    "\n",
    "### Historické okénko, teplota a úskalí floating point aritmetiky\n",
    "\n",
    "Německý fyzik Gabriel Fahrenheit navrhl teplotní stupnici se dvěma skvěle zvolenými referenčními body. Teplota 0 °F je nejnižší teplota, jakou se podařilo Fahrenheitovi naměřit (v roce 1724) ve směsi chloridu amonného, vody a ledu. Druhým referenčním bodem pak je *normální* teplota lidského těla, fixovaná na 98 °F. Nyní se jako referenční body používají bod mrazu vody (32 °F) a bod varu vody (212 °F), čemuž odpovídají převodní vztahy\n",
    "\n",
    "$$\n",
    " T_C = (T_F - 32) \\frac{5}{9}\n",
    "$$\n",
    "\n",
    "$$\n",
    " T_F = \\frac{9}{5} T_C + 32\n",
    "$$"
   ]
  },
  {
   "cell_type": "code",
   "execution_count": 35,
   "id": "1c82ba5e",
   "metadata": {},
   "outputs": [
    {
     "name": "stdout",
     "output_type": "stream",
     "text": [
      "0.33333333333333415\n",
      "0.33333333333333215\n"
     ]
    }
   ],
   "source": [
    "def get_celsius(tf):\n",
    "    return (tf - 32.) * 5./9.\n",
    "\n",
    "def get_celsius2(tf):\n",
    "    return tf * 5./9. - 32. * 5./9.\n",
    "\n",
    "tf = 32.6\n",
    "tc1 = get_celsius(tf)\n",
    "tc2 = get_celsius2(tf)\n",
    "\n",
    "print(tc1)\n",
    "print(tc2)"
   ]
  },
  {
   "cell_type": "code",
   "execution_count": 38,
   "id": "fe7c8ee6",
   "metadata": {},
   "outputs": [
    {
     "data": {
      "text/plain": [
       "True"
      ]
     },
     "execution_count": 38,
     "metadata": {},
     "output_type": "execute_result"
    }
   ],
   "source": [
    "abs(tc1 - tc2) < 1e-13"
   ]
  },
  {
   "cell_type": "code",
   "execution_count": 37,
   "id": "b832bbd7",
   "metadata": {},
   "outputs": [
    {
     "data": {
      "text/plain": [
       "0.30000000000000004"
      ]
     },
     "execution_count": 37,
     "metadata": {},
     "output_type": "execute_result"
    }
   ],
   "source": [
    "0.1 + 0.2 == 0.3\n",
    "0.1 + 0.2"
   ]
  },
  {
   "cell_type": "code",
   "execution_count": null,
   "id": "cacacaf7",
   "metadata": {},
   "outputs": [],
   "source": []
  },
  {
   "cell_type": "markdown",
   "id": "77907501",
   "metadata": {},
   "source": [
    "## Podminky\n",
    "\n"
   ]
  },
  {
   "cell_type": "code",
   "execution_count": 40,
   "id": "e4321795",
   "metadata": {},
   "outputs": [],
   "source": [
    "statement = True\n",
    "if statement:\n",
    "    pass"
   ]
  },
  {
   "cell_type": "code",
   "execution_count": null,
   "id": "f587db44",
   "metadata": {},
   "outputs": [],
   "source": []
  },
  {
   "cell_type": "code",
   "execution_count": 42,
   "id": "d8189551",
   "metadata": {},
   "outputs": [
    {
     "data": {
      "text/plain": [
       "False"
      ]
     },
     "execution_count": 42,
     "metadata": {},
     "output_type": "execute_result"
    }
   ],
   "source": [
    "1 > 1"
   ]
  },
  {
   "cell_type": "markdown",
   "id": "2c209b7c",
   "metadata": {},
   "source": [
    "## Prvocisla\n",
    "\n",
    "prvocislo, je cislo vetsi nez 1, ktere je delitelne pouze sebou a 1."
   ]
  },
  {
   "cell_type": "code",
   "execution_count": 43,
   "id": "d8c308e7",
   "metadata": {},
   "outputs": [
    {
     "data": {
      "text/plain": [
       "1"
      ]
     },
     "execution_count": 43,
     "metadata": {},
     "output_type": "execute_result"
    }
   ],
   "source": [
    "def is_prime(n):\n",
    "    pass\n",
    "\n",
    "# is_prime(5) -> True\n",
    "# is_prime(6) -> False\n",
    "# % - modulo\n",
    "5 % 2\n",
    "\n",
    "def get_primes(numbers):\n",
    "    pass\n",
    "\n",
    "# get_primes([1, 2, 3, 4, 5, 6]) -> [2, 3, 5]"
   ]
  },
  {
   "cell_type": "code",
   "execution_count": 48,
   "id": "b3739b6e",
   "metadata": {},
   "outputs": [
    {
     "data": {
      "text/plain": [
       "3"
      ]
     },
     "execution_count": 48,
     "metadata": {},
     "output_type": "execute_result"
    }
   ],
   "source": [
    "def is_prime(n):\n",
    "    if (n > 1):\n",
    "        for i in range(2, n):\n",
    "            if (n % i) == 0:\n",
    "                return False\n",
    "        return True\n",
    "    else:\n",
    "        return False\n",
    "    \n",
    "def get_primes(numbers):\n",
    "    primes = []\n",
    "    for i in range(len(numbers)):\n",
    "        num = numbers[i]\n",
    "        if (is_prime(num) == True):\n",
    "            primes.append(num)\n",
    "        else:\n",
    "            continue\n",
    "    return primes\n",
    "\n",
    "get_primes([1, 2, 3, 4, 5, 6])"
   ]
  },
  {
   "cell_type": "code",
   "execution_count": 52,
   "id": "1159691a",
   "metadata": {},
   "outputs": [
    {
     "data": {
      "text/plain": [
       "(True, [2, 3, 5])"
      ]
     },
     "execution_count": 52,
     "metadata": {},
     "output_type": "execute_result"
    }
   ],
   "source": [
    "def is_prime(n):\n",
    "    if n <= 1:\n",
    "        return False\n",
    "    \n",
    "    for i in range(2, n):\n",
    "        if (n % i) == 0:\n",
    "            return False\n",
    "    return True\n",
    "\n",
    "def get_primes(numbers): # neco jako: filter(is_prime, numbers)\n",
    "    primes = []\n",
    "    for num in numbers:\n",
    "        if is_prime(num):\n",
    "            primes.append(num)\n",
    "    return primes\n",
    "\n",
    "is_prime(13), get_primes([1, 2, 3, 4, 5, 6])"
   ]
  },
  {
   "cell_type": "code",
   "execution_count": 54,
   "id": "6cb9ca34",
   "metadata": {},
   "outputs": [
    {
     "data": {
      "text/plain": [
       "(True, [2, 3, 5])"
      ]
     },
     "execution_count": 54,
     "metadata": {},
     "output_type": "execute_result"
    }
   ],
   "source": [
    "def is_prime(n):\n",
    "    if n <= 1:\n",
    "        return False\n",
    "    \n",
    "    for i in range(2, n):\n",
    "        if (n % i) == 0:\n",
    "            return False\n",
    "    return True\n",
    "\n",
    "def get_primes(numbers): # neco jako: filter(is_prime, numbers)\n",
    "    return list(filter(is_prime, numbers)) # very pythonic, funkcionalni pristup (functional programming)\n",
    "\n",
    "is_prime(13), get_primes([1, 2, 3, 4, 5, 6])"
   ]
  },
  {
   "cell_type": "markdown",
   "id": "7e131e12",
   "metadata": {},
   "source": [
    "## Formatovany vystup"
   ]
  },
  {
   "cell_type": "code",
   "execution_count": 56,
   "id": "f9601a5a",
   "metadata": {},
   "outputs": [
    {
     "name": "stdout",
     "output_type": "stream",
     "text": [
      "x=2, y=4.400000, z=lenochod\n"
     ]
    }
   ],
   "source": [
    "# c-style formatting - (deprecated)\n",
    "\n",
    "x = 2\n",
    "y = 4.4\n",
    "z = \"lenochod\"\n",
    "\n",
    "out_str = \"x=%d, y=%f, z=%s\" % (x, y, z)\n",
    "\n",
    "print(out_str)"
   ]
  },
  {
   "cell_type": "code",
   "execution_count": 57,
   "id": "d19e7f4e",
   "metadata": {},
   "outputs": [
    {
     "name": "stdout",
     "output_type": "stream",
     "text": [
      "x=2, y=4.4, z=lenochod\n"
     ]
    }
   ],
   "source": [
    "# .format \n",
    "\n",
    "x = 2\n",
    "y = 4.4\n",
    "z = \"lenochod\"\n",
    "\n",
    "out_str = \"x={}, y={}, z={}\".format(x, y, z)\n",
    "\n",
    "print(out_str)"
   ]
  },
  {
   "cell_type": "code",
   "execution_count": 61,
   "id": "82ee2350",
   "metadata": {
    "scrolled": true
   },
   "outputs": [
    {
     "name": "stdout",
     "output_type": "stream",
     "text": [
      "x=+0002, y=04.4000000, z=lenochod\n"
     ]
    }
   ],
   "source": [
    "# f-string\n",
    "\n",
    "x = 2\n",
    "y = 4.4\n",
    "z = \"lenochod\"\n",
    "\n",
    "out_str = f\"x={x:+05d}, y={y:010.7f}, z={z}\"\n",
    "\n",
    "print(out_str)"
   ]
  },
  {
   "cell_type": "code",
   "execution_count": null,
   "id": "6629088e",
   "metadata": {},
   "outputs": [],
   "source": [
    "def get_receipt(nakup: dict, width=50) -> str:\n",
    "    pass\n",
    "\n",
    "nakup = {\n",
    "    \"rohliky\": 40,\n",
    "    \"pivo\": 1200\n",
    "}\n",
    "\n",
    "==================== ÚČTENKA =====================\n",
    "rohliky......................................40.00\n",
    "pivo.......................................1200.00\n",
    "--------------------------------------------------\n",
    "Celkem (Kc)\n",
    "                                           1240.00\n",
    "    \n",
    "# f-stringy\n",
    "# string methods: ljust, rjust, center"
   ]
  }
 ],
 "metadata": {
  "kernelspec": {
   "display_name": "Python 3 (ipykernel)",
   "language": "python",
   "name": "python3"
  },
  "language_info": {
   "codemirror_mode": {
    "name": "ipython",
    "version": 3
   },
   "file_extension": ".py",
   "mimetype": "text/x-python",
   "name": "python",
   "nbconvert_exporter": "python",
   "pygments_lexer": "ipython3",
   "version": "3.10.6"
  }
 },
 "nbformat": 4,
 "nbformat_minor": 5
}
